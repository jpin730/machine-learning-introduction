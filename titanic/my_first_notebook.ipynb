{
  "cells": [
    {
      "cell_type": "markdown",
      "metadata": {
        "id": "0SBh9dLQt_n9"
      },
      "source": [
        "<h1 id=\"0\">My First Notebook</h1>\n",
        "\n",
        "Steps:\n",
        "\n",
        "- [Data cleaning and analysis.](#1)\n",
        "- [Prediction model building.](#2)\n"
      ]
    },
    {
      "cell_type": "markdown",
      "metadata": {
        "id": "A3euFP_AvyNF"
      },
      "source": [
        "<h2 id=\"1\">Data cleaning and analysis</h2>\n",
        "\n",
        "[Go to top](#0)\n"
      ]
    },
    {
      "cell_type": "markdown",
      "metadata": {
        "id": "te4wM_AeI6BI"
      },
      "source": [
        "Import libraries.\n"
      ]
    },
    {
      "cell_type": "code",
      "execution_count": 1,
      "metadata": {
        "id": "tr_ASKPNtkUq"
      },
      "outputs": [],
      "source": [
        "import numpy as np\n",
        "import pandas as pd\n",
        "\n",
        "import sklearn\n",
        "from sklearn.model_selection import train_test_split\n",
        "\n",
        "import matplotlib.pyplot as plt\n",
        "from matplotlib import style\n",
        "\n",
        "# style.available: list of available style names.\n",
        "style.use(\"ggplot\")\n"
      ]
    },
    {
      "cell_type": "markdown",
      "metadata": {
        "id": "HDixczL-JCQ0"
      },
      "source": [
        "Read file `train.csv`.\n"
      ]
    },
    {
      "cell_type": "code",
      "execution_count": 2,
      "metadata": {
        "colab": {
          "base_uri": "https://localhost:8080/",
          "height": 354
        },
        "id": "VKyDoSWH1Voq",
        "outputId": "40c5f5a7-c6a8-4901-f70c-6057d642a9ab"
      },
      "outputs": [
        {
          "data": {
            "text/html": [
              "<div>\n",
              "<style scoped>\n",
              "    .dataframe tbody tr th:only-of-type {\n",
              "        vertical-align: middle;\n",
              "    }\n",
              "\n",
              "    .dataframe tbody tr th {\n",
              "        vertical-align: top;\n",
              "    }\n",
              "\n",
              "    .dataframe thead th {\n",
              "        text-align: right;\n",
              "    }\n",
              "</style>\n",
              "<table border=\"1\" class=\"dataframe\">\n",
              "  <thead>\n",
              "    <tr style=\"text-align: right;\">\n",
              "      <th></th>\n",
              "      <th>PassengerId</th>\n",
              "      <th>Survived</th>\n",
              "      <th>Pclass</th>\n",
              "      <th>Name</th>\n",
              "      <th>Sex</th>\n",
              "      <th>Age</th>\n",
              "      <th>SibSp</th>\n",
              "      <th>Parch</th>\n",
              "      <th>Ticket</th>\n",
              "      <th>Fare</th>\n",
              "      <th>Cabin</th>\n",
              "      <th>Embarked</th>\n",
              "    </tr>\n",
              "  </thead>\n",
              "  <tbody>\n",
              "    <tr>\n",
              "      <th>0</th>\n",
              "      <td>1</td>\n",
              "      <td>0</td>\n",
              "      <td>3</td>\n",
              "      <td>Braund, Mr. Owen Harris</td>\n",
              "      <td>male</td>\n",
              "      <td>22.0</td>\n",
              "      <td>1</td>\n",
              "      <td>0</td>\n",
              "      <td>A/5 21171</td>\n",
              "      <td>7.2500</td>\n",
              "      <td>NaN</td>\n",
              "      <td>S</td>\n",
              "    </tr>\n",
              "    <tr>\n",
              "      <th>1</th>\n",
              "      <td>2</td>\n",
              "      <td>1</td>\n",
              "      <td>1</td>\n",
              "      <td>Cumings, Mrs. John Bradley (Florence Briggs Th...</td>\n",
              "      <td>female</td>\n",
              "      <td>38.0</td>\n",
              "      <td>1</td>\n",
              "      <td>0</td>\n",
              "      <td>PC 17599</td>\n",
              "      <td>71.2833</td>\n",
              "      <td>C85</td>\n",
              "      <td>C</td>\n",
              "    </tr>\n",
              "    <tr>\n",
              "      <th>2</th>\n",
              "      <td>3</td>\n",
              "      <td>1</td>\n",
              "      <td>3</td>\n",
              "      <td>Heikkinen, Miss. Laina</td>\n",
              "      <td>female</td>\n",
              "      <td>26.0</td>\n",
              "      <td>0</td>\n",
              "      <td>0</td>\n",
              "      <td>STON/O2. 3101282</td>\n",
              "      <td>7.9250</td>\n",
              "      <td>NaN</td>\n",
              "      <td>S</td>\n",
              "    </tr>\n",
              "    <tr>\n",
              "      <th>3</th>\n",
              "      <td>4</td>\n",
              "      <td>1</td>\n",
              "      <td>1</td>\n",
              "      <td>Futrelle, Mrs. Jacques Heath (Lily May Peel)</td>\n",
              "      <td>female</td>\n",
              "      <td>35.0</td>\n",
              "      <td>1</td>\n",
              "      <td>0</td>\n",
              "      <td>113803</td>\n",
              "      <td>53.1000</td>\n",
              "      <td>C123</td>\n",
              "      <td>S</td>\n",
              "    </tr>\n",
              "    <tr>\n",
              "      <th>4</th>\n",
              "      <td>5</td>\n",
              "      <td>0</td>\n",
              "      <td>3</td>\n",
              "      <td>Allen, Mr. William Henry</td>\n",
              "      <td>male</td>\n",
              "      <td>35.0</td>\n",
              "      <td>0</td>\n",
              "      <td>0</td>\n",
              "      <td>373450</td>\n",
              "      <td>8.0500</td>\n",
              "      <td>NaN</td>\n",
              "      <td>S</td>\n",
              "    </tr>\n",
              "  </tbody>\n",
              "</table>\n",
              "</div>"
            ],
            "text/plain": [
              "   PassengerId  Survived  Pclass  \\\n",
              "0            1         0       3   \n",
              "1            2         1       1   \n",
              "2            3         1       3   \n",
              "3            4         1       1   \n",
              "4            5         0       3   \n",
              "\n",
              "                                                Name     Sex   Age  SibSp  \\\n",
              "0                            Braund, Mr. Owen Harris    male  22.0      1   \n",
              "1  Cumings, Mrs. John Bradley (Florence Briggs Th...  female  38.0      1   \n",
              "2                             Heikkinen, Miss. Laina  female  26.0      0   \n",
              "3       Futrelle, Mrs. Jacques Heath (Lily May Peel)  female  35.0      1   \n",
              "4                           Allen, Mr. William Henry    male  35.0      0   \n",
              "\n",
              "   Parch            Ticket     Fare Cabin Embarked  \n",
              "0      0         A/5 21171   7.2500   NaN        S  \n",
              "1      0          PC 17599  71.2833   C85        C  \n",
              "2      0  STON/O2. 3101282   7.9250   NaN        S  \n",
              "3      0            113803  53.1000  C123        S  \n",
              "4      0            373450   8.0500   NaN        S  "
            ]
          },
          "execution_count": 2,
          "metadata": {},
          "output_type": "execute_result"
        }
      ],
      "source": [
        "df_original = pd.read_csv(\"train.csv\")\n",
        "\n",
        "df_original.head()\n"
      ]
    },
    {
      "cell_type": "markdown",
      "metadata": {
        "id": "LwekN9OwJMGo"
      },
      "source": [
        "Discard no relevant columns.\n"
      ]
    },
    {
      "cell_type": "code",
      "execution_count": 3,
      "metadata": {
        "colab": {
          "base_uri": "https://localhost:8080/",
          "height": 143
        },
        "id": "Eet7P-tb09td",
        "outputId": "0f2ad959-3366-41db-c226-0e0fad58d2b0"
      },
      "outputs": [
        {
          "data": {
            "text/html": [
              "<div>\n",
              "<style scoped>\n",
              "    .dataframe tbody tr th:only-of-type {\n",
              "        vertical-align: middle;\n",
              "    }\n",
              "\n",
              "    .dataframe tbody tr th {\n",
              "        vertical-align: top;\n",
              "    }\n",
              "\n",
              "    .dataframe thead th {\n",
              "        text-align: right;\n",
              "    }\n",
              "</style>\n",
              "<table border=\"1\" class=\"dataframe\">\n",
              "  <thead>\n",
              "    <tr style=\"text-align: right;\">\n",
              "      <th></th>\n",
              "      <th>Survived</th>\n",
              "      <th>Pclass</th>\n",
              "      <th>Sex</th>\n",
              "      <th>Age</th>\n",
              "      <th>SibSp</th>\n",
              "      <th>Ticket</th>\n",
              "      <th>Fare</th>\n",
              "    </tr>\n",
              "  </thead>\n",
              "  <tbody>\n",
              "    <tr>\n",
              "      <th>0</th>\n",
              "      <td>0</td>\n",
              "      <td>3</td>\n",
              "      <td>male</td>\n",
              "      <td>22.0</td>\n",
              "      <td>1</td>\n",
              "      <td>A/5 21171</td>\n",
              "      <td>7.2500</td>\n",
              "    </tr>\n",
              "    <tr>\n",
              "      <th>1</th>\n",
              "      <td>1</td>\n",
              "      <td>1</td>\n",
              "      <td>female</td>\n",
              "      <td>38.0</td>\n",
              "      <td>1</td>\n",
              "      <td>PC 17599</td>\n",
              "      <td>71.2833</td>\n",
              "    </tr>\n",
              "    <tr>\n",
              "      <th>2</th>\n",
              "      <td>1</td>\n",
              "      <td>3</td>\n",
              "      <td>female</td>\n",
              "      <td>26.0</td>\n",
              "      <td>0</td>\n",
              "      <td>STON/O2. 3101282</td>\n",
              "      <td>7.9250</td>\n",
              "    </tr>\n",
              "    <tr>\n",
              "      <th>3</th>\n",
              "      <td>1</td>\n",
              "      <td>1</td>\n",
              "      <td>female</td>\n",
              "      <td>35.0</td>\n",
              "      <td>1</td>\n",
              "      <td>113803</td>\n",
              "      <td>53.1000</td>\n",
              "    </tr>\n",
              "    <tr>\n",
              "      <th>4</th>\n",
              "      <td>0</td>\n",
              "      <td>3</td>\n",
              "      <td>male</td>\n",
              "      <td>35.0</td>\n",
              "      <td>0</td>\n",
              "      <td>373450</td>\n",
              "      <td>8.0500</td>\n",
              "    </tr>\n",
              "  </tbody>\n",
              "</table>\n",
              "</div>"
            ],
            "text/plain": [
              "   Survived  Pclass     Sex   Age  SibSp            Ticket     Fare\n",
              "0         0       3    male  22.0      1         A/5 21171   7.2500\n",
              "1         1       1  female  38.0      1          PC 17599  71.2833\n",
              "2         1       3  female  26.0      0  STON/O2. 3101282   7.9250\n",
              "3         1       1  female  35.0      1            113803  53.1000\n",
              "4         0       3    male  35.0      0            373450   8.0500"
            ]
          },
          "execution_count": 3,
          "metadata": {},
          "output_type": "execute_result"
        }
      ],
      "source": [
        "df_dropped_features = df_original.drop(\n",
        "    [\"PassengerId\", \"Name\", \"Embarked\", \"Parch\", \"Cabin\"], axis=1\n",
        ")\n",
        "\n",
        "df_dropped_features.head()\n"
      ]
    },
    {
      "cell_type": "markdown",
      "metadata": {
        "id": "wptrhjQnKO_X"
      },
      "source": [
        "Get unique values from a column.\n"
      ]
    },
    {
      "cell_type": "code",
      "execution_count": 4,
      "metadata": {
        "colab": {
          "base_uri": "https://localhost:8080/"
        },
        "id": "RO2HvUvH352H",
        "outputId": "1c99eaae-d2cc-48a8-871a-9e89e5323c03"
      },
      "outputs": [
        {
          "name": "stdout",
          "output_type": "stream",
          "text": [
            "Sex:  ['male' 'female']\n"
          ]
        }
      ],
      "source": [
        "print(\"Sex: \", df_dropped_features[\"Sex\"].unique())\n"
      ]
    },
    {
      "cell_type": "markdown",
      "metadata": {
        "id": "_VehxtmdKcWR"
      },
      "source": [
        "Convert categorical variable into dummy/indicator variables.\n"
      ]
    },
    {
      "cell_type": "code",
      "execution_count": 5,
      "metadata": {
        "colab": {
          "base_uri": "https://localhost:8080/",
          "height": 254
        },
        "id": "RXf7dBZq37K1",
        "outputId": "7a9752f1-81fc-4900-b7f0-f13ba4935f2a"
      },
      "outputs": [
        {
          "data": {
            "text/html": [
              "<div>\n",
              "<style scoped>\n",
              "    .dataframe tbody tr th:only-of-type {\n",
              "        vertical-align: middle;\n",
              "    }\n",
              "\n",
              "    .dataframe tbody tr th {\n",
              "        vertical-align: top;\n",
              "    }\n",
              "\n",
              "    .dataframe thead th {\n",
              "        text-align: right;\n",
              "    }\n",
              "</style>\n",
              "<table border=\"1\" class=\"dataframe\">\n",
              "  <thead>\n",
              "    <tr style=\"text-align: right;\">\n",
              "      <th></th>\n",
              "      <th>Survived</th>\n",
              "      <th>Pclass</th>\n",
              "      <th>Age</th>\n",
              "      <th>SibSp</th>\n",
              "      <th>Fare</th>\n",
              "      <th>Sex_female</th>\n",
              "      <th>Sex_male</th>\n",
              "      <th>Ticket_110152</th>\n",
              "      <th>Ticket_110413</th>\n",
              "      <th>Ticket_110465</th>\n",
              "      <th>...</th>\n",
              "      <th>Ticket_STON/O2. 3101290</th>\n",
              "      <th>Ticket_SW/PP 751</th>\n",
              "      <th>Ticket_W./C. 14258</th>\n",
              "      <th>Ticket_W./C. 14263</th>\n",
              "      <th>Ticket_W./C. 6607</th>\n",
              "      <th>Ticket_W./C. 6608</th>\n",
              "      <th>Ticket_W./C. 6609</th>\n",
              "      <th>Ticket_W.E.P. 5734</th>\n",
              "      <th>Ticket_W/C 14208</th>\n",
              "      <th>Ticket_WE/P 5735</th>\n",
              "    </tr>\n",
              "  </thead>\n",
              "  <tbody>\n",
              "    <tr>\n",
              "      <th>0</th>\n",
              "      <td>0</td>\n",
              "      <td>3</td>\n",
              "      <td>22.0</td>\n",
              "      <td>1</td>\n",
              "      <td>7.2500</td>\n",
              "      <td>0</td>\n",
              "      <td>1</td>\n",
              "      <td>0</td>\n",
              "      <td>0</td>\n",
              "      <td>0</td>\n",
              "      <td>...</td>\n",
              "      <td>0</td>\n",
              "      <td>0</td>\n",
              "      <td>0</td>\n",
              "      <td>0</td>\n",
              "      <td>0</td>\n",
              "      <td>0</td>\n",
              "      <td>0</td>\n",
              "      <td>0</td>\n",
              "      <td>0</td>\n",
              "      <td>0</td>\n",
              "    </tr>\n",
              "    <tr>\n",
              "      <th>1</th>\n",
              "      <td>1</td>\n",
              "      <td>1</td>\n",
              "      <td>38.0</td>\n",
              "      <td>1</td>\n",
              "      <td>71.2833</td>\n",
              "      <td>1</td>\n",
              "      <td>0</td>\n",
              "      <td>0</td>\n",
              "      <td>0</td>\n",
              "      <td>0</td>\n",
              "      <td>...</td>\n",
              "      <td>0</td>\n",
              "      <td>0</td>\n",
              "      <td>0</td>\n",
              "      <td>0</td>\n",
              "      <td>0</td>\n",
              "      <td>0</td>\n",
              "      <td>0</td>\n",
              "      <td>0</td>\n",
              "      <td>0</td>\n",
              "      <td>0</td>\n",
              "    </tr>\n",
              "    <tr>\n",
              "      <th>2</th>\n",
              "      <td>1</td>\n",
              "      <td>3</td>\n",
              "      <td>26.0</td>\n",
              "      <td>0</td>\n",
              "      <td>7.9250</td>\n",
              "      <td>1</td>\n",
              "      <td>0</td>\n",
              "      <td>0</td>\n",
              "      <td>0</td>\n",
              "      <td>0</td>\n",
              "      <td>...</td>\n",
              "      <td>0</td>\n",
              "      <td>0</td>\n",
              "      <td>0</td>\n",
              "      <td>0</td>\n",
              "      <td>0</td>\n",
              "      <td>0</td>\n",
              "      <td>0</td>\n",
              "      <td>0</td>\n",
              "      <td>0</td>\n",
              "      <td>0</td>\n",
              "    </tr>\n",
              "    <tr>\n",
              "      <th>3</th>\n",
              "      <td>1</td>\n",
              "      <td>1</td>\n",
              "      <td>35.0</td>\n",
              "      <td>1</td>\n",
              "      <td>53.1000</td>\n",
              "      <td>1</td>\n",
              "      <td>0</td>\n",
              "      <td>0</td>\n",
              "      <td>0</td>\n",
              "      <td>0</td>\n",
              "      <td>...</td>\n",
              "      <td>0</td>\n",
              "      <td>0</td>\n",
              "      <td>0</td>\n",
              "      <td>0</td>\n",
              "      <td>0</td>\n",
              "      <td>0</td>\n",
              "      <td>0</td>\n",
              "      <td>0</td>\n",
              "      <td>0</td>\n",
              "      <td>0</td>\n",
              "    </tr>\n",
              "    <tr>\n",
              "      <th>4</th>\n",
              "      <td>0</td>\n",
              "      <td>3</td>\n",
              "      <td>35.0</td>\n",
              "      <td>0</td>\n",
              "      <td>8.0500</td>\n",
              "      <td>0</td>\n",
              "      <td>1</td>\n",
              "      <td>0</td>\n",
              "      <td>0</td>\n",
              "      <td>0</td>\n",
              "      <td>...</td>\n",
              "      <td>0</td>\n",
              "      <td>0</td>\n",
              "      <td>0</td>\n",
              "      <td>0</td>\n",
              "      <td>0</td>\n",
              "      <td>0</td>\n",
              "      <td>0</td>\n",
              "      <td>0</td>\n",
              "      <td>0</td>\n",
              "      <td>0</td>\n",
              "    </tr>\n",
              "  </tbody>\n",
              "</table>\n",
              "<p>5 rows × 688 columns</p>\n",
              "</div>"
            ],
            "text/plain": [
              "   Survived  Pclass   Age  SibSp     Fare  Sex_female  Sex_male  \\\n",
              "0         0       3  22.0      1   7.2500           0         1   \n",
              "1         1       1  38.0      1  71.2833           1         0   \n",
              "2         1       3  26.0      0   7.9250           1         0   \n",
              "3         1       1  35.0      1  53.1000           1         0   \n",
              "4         0       3  35.0      0   8.0500           0         1   \n",
              "\n",
              "   Ticket_110152  Ticket_110413  Ticket_110465  ...  Ticket_STON/O2. 3101290  \\\n",
              "0              0              0              0  ...                        0   \n",
              "1              0              0              0  ...                        0   \n",
              "2              0              0              0  ...                        0   \n",
              "3              0              0              0  ...                        0   \n",
              "4              0              0              0  ...                        0   \n",
              "\n",
              "   Ticket_SW/PP 751  Ticket_W./C. 14258  Ticket_W./C. 14263  \\\n",
              "0                 0                   0                   0   \n",
              "1                 0                   0                   0   \n",
              "2                 0                   0                   0   \n",
              "3                 0                   0                   0   \n",
              "4                 0                   0                   0   \n",
              "\n",
              "   Ticket_W./C. 6607  Ticket_W./C. 6608  Ticket_W./C. 6609  \\\n",
              "0                  0                  0                  0   \n",
              "1                  0                  0                  0   \n",
              "2                  0                  0                  0   \n",
              "3                  0                  0                  0   \n",
              "4                  0                  0                  0   \n",
              "\n",
              "   Ticket_W.E.P. 5734  Ticket_W/C 14208  Ticket_WE/P 5735  \n",
              "0                   0                 0                 0  \n",
              "1                   0                 0                 0  \n",
              "2                   0                 0                 0  \n",
              "3                   0                 0                 0  \n",
              "4                   0                 0                 0  \n",
              "\n",
              "[5 rows x 688 columns]"
            ]
          },
          "execution_count": 5,
          "metadata": {},
          "output_type": "execute_result"
        }
      ],
      "source": [
        "df_categorized = pd.get_dummies(df_dropped_features)\n",
        "\n",
        "df_categorized.head()\n"
      ]
    },
    {
      "cell_type": "markdown",
      "metadata": {
        "id": "XXz-m-AGLGvT"
      },
      "source": [
        "Generate descriptive statistics.\n"
      ]
    },
    {
      "cell_type": "code",
      "execution_count": 6,
      "metadata": {
        "colab": {
          "base_uri": "https://localhost:8080/",
          "height": 411
        },
        "id": "txizlcJV7VVk",
        "outputId": "b6845627-16b1-4586-d3f3-043f60ae9df1"
      },
      "outputs": [
        {
          "data": {
            "text/html": [
              "<div>\n",
              "<style scoped>\n",
              "    .dataframe tbody tr th:only-of-type {\n",
              "        vertical-align: middle;\n",
              "    }\n",
              "\n",
              "    .dataframe tbody tr th {\n",
              "        vertical-align: top;\n",
              "    }\n",
              "\n",
              "    .dataframe thead th {\n",
              "        text-align: right;\n",
              "    }\n",
              "</style>\n",
              "<table border=\"1\" class=\"dataframe\">\n",
              "  <thead>\n",
              "    <tr style=\"text-align: right;\">\n",
              "      <th></th>\n",
              "      <th>Survived</th>\n",
              "      <th>Pclass</th>\n",
              "      <th>Age</th>\n",
              "      <th>SibSp</th>\n",
              "      <th>Fare</th>\n",
              "      <th>Sex_female</th>\n",
              "      <th>Sex_male</th>\n",
              "      <th>Ticket_110152</th>\n",
              "      <th>Ticket_110413</th>\n",
              "      <th>Ticket_110465</th>\n",
              "      <th>...</th>\n",
              "      <th>Ticket_STON/O2. 3101290</th>\n",
              "      <th>Ticket_SW/PP 751</th>\n",
              "      <th>Ticket_W./C. 14258</th>\n",
              "      <th>Ticket_W./C. 14263</th>\n",
              "      <th>Ticket_W./C. 6607</th>\n",
              "      <th>Ticket_W./C. 6608</th>\n",
              "      <th>Ticket_W./C. 6609</th>\n",
              "      <th>Ticket_W.E.P. 5734</th>\n",
              "      <th>Ticket_W/C 14208</th>\n",
              "      <th>Ticket_WE/P 5735</th>\n",
              "    </tr>\n",
              "  </thead>\n",
              "  <tbody>\n",
              "    <tr>\n",
              "      <th>count</th>\n",
              "      <td>891.000000</td>\n",
              "      <td>891.000000</td>\n",
              "      <td>714.000000</td>\n",
              "      <td>891.000000</td>\n",
              "      <td>891.000000</td>\n",
              "      <td>891.000000</td>\n",
              "      <td>891.000000</td>\n",
              "      <td>891.000000</td>\n",
              "      <td>891.000000</td>\n",
              "      <td>891.000000</td>\n",
              "      <td>...</td>\n",
              "      <td>891.000000</td>\n",
              "      <td>891.000000</td>\n",
              "      <td>891.000000</td>\n",
              "      <td>891.000000</td>\n",
              "      <td>891.000000</td>\n",
              "      <td>891.000000</td>\n",
              "      <td>891.000000</td>\n",
              "      <td>891.000000</td>\n",
              "      <td>891.000000</td>\n",
              "      <td>891.000000</td>\n",
              "    </tr>\n",
              "    <tr>\n",
              "      <th>mean</th>\n",
              "      <td>0.383838</td>\n",
              "      <td>2.308642</td>\n",
              "      <td>29.699118</td>\n",
              "      <td>0.523008</td>\n",
              "      <td>32.204208</td>\n",
              "      <td>0.352413</td>\n",
              "      <td>0.647587</td>\n",
              "      <td>0.003367</td>\n",
              "      <td>0.003367</td>\n",
              "      <td>0.002245</td>\n",
              "      <td>...</td>\n",
              "      <td>0.001122</td>\n",
              "      <td>0.001122</td>\n",
              "      <td>0.001122</td>\n",
              "      <td>0.001122</td>\n",
              "      <td>0.002245</td>\n",
              "      <td>0.004489</td>\n",
              "      <td>0.001122</td>\n",
              "      <td>0.001122</td>\n",
              "      <td>0.001122</td>\n",
              "      <td>0.002245</td>\n",
              "    </tr>\n",
              "    <tr>\n",
              "      <th>std</th>\n",
              "      <td>0.486592</td>\n",
              "      <td>0.836071</td>\n",
              "      <td>14.526497</td>\n",
              "      <td>1.102743</td>\n",
              "      <td>49.693429</td>\n",
              "      <td>0.477990</td>\n",
              "      <td>0.477990</td>\n",
              "      <td>0.057961</td>\n",
              "      <td>0.057961</td>\n",
              "      <td>0.047351</td>\n",
              "      <td>...</td>\n",
              "      <td>0.033501</td>\n",
              "      <td>0.033501</td>\n",
              "      <td>0.033501</td>\n",
              "      <td>0.033501</td>\n",
              "      <td>0.047351</td>\n",
              "      <td>0.066890</td>\n",
              "      <td>0.033501</td>\n",
              "      <td>0.033501</td>\n",
              "      <td>0.033501</td>\n",
              "      <td>0.047351</td>\n",
              "    </tr>\n",
              "    <tr>\n",
              "      <th>min</th>\n",
              "      <td>0.000000</td>\n",
              "      <td>1.000000</td>\n",
              "      <td>0.420000</td>\n",
              "      <td>0.000000</td>\n",
              "      <td>0.000000</td>\n",
              "      <td>0.000000</td>\n",
              "      <td>0.000000</td>\n",
              "      <td>0.000000</td>\n",
              "      <td>0.000000</td>\n",
              "      <td>0.000000</td>\n",
              "      <td>...</td>\n",
              "      <td>0.000000</td>\n",
              "      <td>0.000000</td>\n",
              "      <td>0.000000</td>\n",
              "      <td>0.000000</td>\n",
              "      <td>0.000000</td>\n",
              "      <td>0.000000</td>\n",
              "      <td>0.000000</td>\n",
              "      <td>0.000000</td>\n",
              "      <td>0.000000</td>\n",
              "      <td>0.000000</td>\n",
              "    </tr>\n",
              "    <tr>\n",
              "      <th>25%</th>\n",
              "      <td>0.000000</td>\n",
              "      <td>2.000000</td>\n",
              "      <td>20.125000</td>\n",
              "      <td>0.000000</td>\n",
              "      <td>7.910400</td>\n",
              "      <td>0.000000</td>\n",
              "      <td>0.000000</td>\n",
              "      <td>0.000000</td>\n",
              "      <td>0.000000</td>\n",
              "      <td>0.000000</td>\n",
              "      <td>...</td>\n",
              "      <td>0.000000</td>\n",
              "      <td>0.000000</td>\n",
              "      <td>0.000000</td>\n",
              "      <td>0.000000</td>\n",
              "      <td>0.000000</td>\n",
              "      <td>0.000000</td>\n",
              "      <td>0.000000</td>\n",
              "      <td>0.000000</td>\n",
              "      <td>0.000000</td>\n",
              "      <td>0.000000</td>\n",
              "    </tr>\n",
              "    <tr>\n",
              "      <th>50%</th>\n",
              "      <td>0.000000</td>\n",
              "      <td>3.000000</td>\n",
              "      <td>28.000000</td>\n",
              "      <td>0.000000</td>\n",
              "      <td>14.454200</td>\n",
              "      <td>0.000000</td>\n",
              "      <td>1.000000</td>\n",
              "      <td>0.000000</td>\n",
              "      <td>0.000000</td>\n",
              "      <td>0.000000</td>\n",
              "      <td>...</td>\n",
              "      <td>0.000000</td>\n",
              "      <td>0.000000</td>\n",
              "      <td>0.000000</td>\n",
              "      <td>0.000000</td>\n",
              "      <td>0.000000</td>\n",
              "      <td>0.000000</td>\n",
              "      <td>0.000000</td>\n",
              "      <td>0.000000</td>\n",
              "      <td>0.000000</td>\n",
              "      <td>0.000000</td>\n",
              "    </tr>\n",
              "    <tr>\n",
              "      <th>75%</th>\n",
              "      <td>1.000000</td>\n",
              "      <td>3.000000</td>\n",
              "      <td>38.000000</td>\n",
              "      <td>1.000000</td>\n",
              "      <td>31.000000</td>\n",
              "      <td>1.000000</td>\n",
              "      <td>1.000000</td>\n",
              "      <td>0.000000</td>\n",
              "      <td>0.000000</td>\n",
              "      <td>0.000000</td>\n",
              "      <td>...</td>\n",
              "      <td>0.000000</td>\n",
              "      <td>0.000000</td>\n",
              "      <td>0.000000</td>\n",
              "      <td>0.000000</td>\n",
              "      <td>0.000000</td>\n",
              "      <td>0.000000</td>\n",
              "      <td>0.000000</td>\n",
              "      <td>0.000000</td>\n",
              "      <td>0.000000</td>\n",
              "      <td>0.000000</td>\n",
              "    </tr>\n",
              "    <tr>\n",
              "      <th>max</th>\n",
              "      <td>1.000000</td>\n",
              "      <td>3.000000</td>\n",
              "      <td>80.000000</td>\n",
              "      <td>8.000000</td>\n",
              "      <td>512.329200</td>\n",
              "      <td>1.000000</td>\n",
              "      <td>1.000000</td>\n",
              "      <td>1.000000</td>\n",
              "      <td>1.000000</td>\n",
              "      <td>1.000000</td>\n",
              "      <td>...</td>\n",
              "      <td>1.000000</td>\n",
              "      <td>1.000000</td>\n",
              "      <td>1.000000</td>\n",
              "      <td>1.000000</td>\n",
              "      <td>1.000000</td>\n",
              "      <td>1.000000</td>\n",
              "      <td>1.000000</td>\n",
              "      <td>1.000000</td>\n",
              "      <td>1.000000</td>\n",
              "      <td>1.000000</td>\n",
              "    </tr>\n",
              "  </tbody>\n",
              "</table>\n",
              "<p>8 rows × 688 columns</p>\n",
              "</div>"
            ],
            "text/plain": [
              "         Survived      Pclass         Age       SibSp        Fare  Sex_female  \\\n",
              "count  891.000000  891.000000  714.000000  891.000000  891.000000  891.000000   \n",
              "mean     0.383838    2.308642   29.699118    0.523008   32.204208    0.352413   \n",
              "std      0.486592    0.836071   14.526497    1.102743   49.693429    0.477990   \n",
              "min      0.000000    1.000000    0.420000    0.000000    0.000000    0.000000   \n",
              "25%      0.000000    2.000000   20.125000    0.000000    7.910400    0.000000   \n",
              "50%      0.000000    3.000000   28.000000    0.000000   14.454200    0.000000   \n",
              "75%      1.000000    3.000000   38.000000    1.000000   31.000000    1.000000   \n",
              "max      1.000000    3.000000   80.000000    8.000000  512.329200    1.000000   \n",
              "\n",
              "         Sex_male  Ticket_110152  Ticket_110413  Ticket_110465  ...  \\\n",
              "count  891.000000     891.000000     891.000000     891.000000  ...   \n",
              "mean     0.647587       0.003367       0.003367       0.002245  ...   \n",
              "std      0.477990       0.057961       0.057961       0.047351  ...   \n",
              "min      0.000000       0.000000       0.000000       0.000000  ...   \n",
              "25%      0.000000       0.000000       0.000000       0.000000  ...   \n",
              "50%      1.000000       0.000000       0.000000       0.000000  ...   \n",
              "75%      1.000000       0.000000       0.000000       0.000000  ...   \n",
              "max      1.000000       1.000000       1.000000       1.000000  ...   \n",
              "\n",
              "       Ticket_STON/O2. 3101290  Ticket_SW/PP 751  Ticket_W./C. 14258  \\\n",
              "count               891.000000        891.000000          891.000000   \n",
              "mean                  0.001122          0.001122            0.001122   \n",
              "std                   0.033501          0.033501            0.033501   \n",
              "min                   0.000000          0.000000            0.000000   \n",
              "25%                   0.000000          0.000000            0.000000   \n",
              "50%                   0.000000          0.000000            0.000000   \n",
              "75%                   0.000000          0.000000            0.000000   \n",
              "max                   1.000000          1.000000            1.000000   \n",
              "\n",
              "       Ticket_W./C. 14263  Ticket_W./C. 6607  Ticket_W./C. 6608  \\\n",
              "count          891.000000         891.000000         891.000000   \n",
              "mean             0.001122           0.002245           0.004489   \n",
              "std              0.033501           0.047351           0.066890   \n",
              "min              0.000000           0.000000           0.000000   \n",
              "25%              0.000000           0.000000           0.000000   \n",
              "50%              0.000000           0.000000           0.000000   \n",
              "75%              0.000000           0.000000           0.000000   \n",
              "max              1.000000           1.000000           1.000000   \n",
              "\n",
              "       Ticket_W./C. 6609  Ticket_W.E.P. 5734  Ticket_W/C 14208  \\\n",
              "count         891.000000          891.000000        891.000000   \n",
              "mean            0.001122            0.001122          0.001122   \n",
              "std             0.033501            0.033501          0.033501   \n",
              "min             0.000000            0.000000          0.000000   \n",
              "25%             0.000000            0.000000          0.000000   \n",
              "50%             0.000000            0.000000          0.000000   \n",
              "75%             0.000000            0.000000          0.000000   \n",
              "max             1.000000            1.000000          1.000000   \n",
              "\n",
              "       Ticket_WE/P 5735  \n",
              "count        891.000000  \n",
              "mean           0.002245  \n",
              "std            0.047351  \n",
              "min            0.000000  \n",
              "25%            0.000000  \n",
              "50%            0.000000  \n",
              "75%            0.000000  \n",
              "max            1.000000  \n",
              "\n",
              "[8 rows x 688 columns]"
            ]
          },
          "execution_count": 6,
          "metadata": {},
          "output_type": "execute_result"
        }
      ],
      "source": [
        "df_categorized.describe()\n"
      ]
    },
    {
      "cell_type": "markdown",
      "metadata": {
        "id": "nBFsBe-OL3uf"
      },
      "source": [
        "Remove passengers with missing ages.\n"
      ]
    },
    {
      "cell_type": "code",
      "execution_count": 7,
      "metadata": {
        "id": "aYbXri6t8LL3"
      },
      "outputs": [
        {
          "name": "stdout",
          "output_type": "stream",
          "text": [
            "Passengers without age:  177\n",
            "Passengers without age:  0\n"
          ]
        }
      ],
      "source": [
        "df_cleaned = df_categorized.copy()\n",
        "\n",
        "print(\"Passengers without age: \", df_cleaned.query(\"Age.isnull()\").shape[0])\n",
        "\n",
        "df_cleaned = df_categorized.dropna()\n",
        "# df_cleaned[\"Age\"] = df_categorized[\"Survived\"]\n",
        "\n",
        "print(\"Passengers without age: \", df_cleaned.query(\"Age.isnull()\").shape[0])\n"
      ]
    },
    {
      "cell_type": "markdown",
      "metadata": {
        "id": "DRc3nY_vL6ei"
      },
      "source": [
        "Define a util function for plotting values with a bar chart.\n"
      ]
    },
    {
      "cell_type": "code",
      "execution_count": 8,
      "metadata": {
        "id": "Aa3cuFwI85mh"
      },
      "outputs": [],
      "source": [
        "def plot_with_bar(values=None, title=None, labels=None):\n",
        "    if values == None:\n",
        "        raise ValueError(\"Values cannot be empty.\")\n",
        "\n",
        "    if type(values) == list or type(values) == tuple:\n",
        "        pass\n",
        "    else:\n",
        "        raise ValueError(\"Values must be a list or tuple.\")\n",
        "\n",
        "    series_index = [i for i in range(len(values))]\n",
        "    plt.bar(series_index, values)\n",
        "    plt.title(title)\n",
        "    plt.xticks(series_index, labels)\n",
        "    plt.show()\n"
      ]
    },
    {
      "cell_type": "markdown",
      "metadata": {
        "id": "N2YbZmCVQxuc"
      },
      "source": [
        "Representate the sex of the passangers.\n"
      ]
    },
    {
      "cell_type": "code",
      "execution_count": 9,
      "metadata": {
        "colab": {
          "base_uri": "https://localhost:8080/",
          "height": 334
        },
        "id": "5HJLQsbaNQiW",
        "outputId": "7bb98ec8-1947-4c62-b744-3b87cfafd588"
      },
      "outputs": [
        {
          "name": "stdout",
          "output_type": "stream",
          "text": [
            "Male:  453\n",
            "Female:  261\n",
            "Total:  714\n"
          ]
        },
        {
          "data": {
            "image/png": "[encoded data removed]",
            "text/plain": [
              "<Figure size 432x288 with 1 Axes>"
            ]
          },
          "metadata": {
            "needs_background": "light"
          },
          "output_type": "display_data"
        }
      ],
      "source": [
        "male = df_cleaned.query(\"Sex_male == 1\")\n",
        "female = df_cleaned.query(\"Sex_female == 1\")\n",
        "\n",
        "print(\"Male: \", male.shape[0])\n",
        "print(\"Female: \", female.shape[0])\n",
        "print(\"Total: \", df_cleaned.shape[0])\n",
        "\n",
        "plot_with_bar(\n",
        "    values=[male.shape[0], female.shape[0]],\n",
        "    title=\"Passengers by sex\",\n",
        "    labels=[\"Male\", \"Female\"],\n",
        ")\n"
      ]
    },
    {
      "cell_type": "markdown",
      "metadata": {},
      "source": [
        "<h2 id=\"2\">Prediction model building</h2>\n",
        "\n",
        "[Go to top](#0)\n"
      ]
    },
    {
      "cell_type": "markdown",
      "metadata": {},
      "source": [
        "Separate the independent and dependent variables.\n"
      ]
    },
    {
      "cell_type": "code",
      "execution_count": 10,
      "metadata": {},
      "outputs": [
        {
          "name": "stdout",
          "output_type": "stream",
          "text": [
            "(714, 687) (714,)\n"
          ]
        }
      ],
      "source": [
        "X = df_cleaned.drop(\"Survived\", axis=1)\n",
        "Y = df_cleaned[\"Survived\"]\n",
        "\n",
        "print(X.shape, Y.shape)\n"
      ]
    },
    {
      "cell_type": "markdown",
      "metadata": {},
      "source": [
        "Split arrays or matrices into random train and test subsets.\n"
      ]
    },
    {
      "cell_type": "code",
      "execution_count": 11,
      "metadata": {},
      "outputs": [
        {
          "name": "stdout",
          "output_type": "stream",
          "text": [
            "(499, 687) (499,)\n",
            "(215, 687) (215,)\n"
          ]
        }
      ],
      "source": [
        "TRAIN_SIZE = 0.7\n",
        "TEST_SIZE = 0.3\n",
        "\n",
        "x_train, x_test, y_train, y_test = train_test_split(\n",
        "    X, Y, test_size=TEST_SIZE, random_state=42\n",
        ")\n",
        "\n",
        "print(x_train.shape, y_train.shape)\n",
        "print(x_test.shape, y_test.shape)\n"
      ]
    },
    {
      "cell_type": "markdown",
      "metadata": {},
      "source": [
        "Get a random forest classifier model using the train dataset and validate with the test dataset.\n"
      ]
    },
    {
      "cell_type": "code",
      "execution_count": 12,
      "metadata": {},
      "outputs": [
        {
          "name": "stdout",
          "output_type": "stream",
          "text": [
            "Score with training set: 0.9839679358717435\n",
            "Score with testing set: 0.8093023255813954\n"
          ]
        }
      ],
      "source": [
        "from sklearn.ensemble import RandomForestClassifier\n",
        "\n",
        "rfc_model = RandomForestClassifier(n_estimators=25, max_depth=50)\n",
        "\n",
        "rfc_model.fit(x_train, y_train)\n",
        "\n",
        "print(\"Score with training set:\", rfc_model.score(x_train, y_train))\n",
        "print(\"Score with testing set:\", rfc_model.score(x_test, y_test))\n"
      ]
    },
    {
      "cell_type": "markdown",
      "metadata": {},
      "source": [
        "[Go to top](#0)\n"
      ]
    }
  ],
  "metadata": {
    "colab": {
      "collapsed_sections": [],
      "name": "my-first-notebook.ipynb",
      "provenance": []
    },
    "kernelspec": {
      "display_name": "Python 3.8.10 64-bit",
      "language": "python",
      "name": "python3"
    },
    "language_info": {
      "codemirror_mode": {
        "name": "ipython",
        "version": 3
      },
      "file_extension": ".py",
      "mimetype": "text/x-python",
      "name": "python",
      "nbconvert_exporter": "python",
      "pygments_lexer": "ipython3",
      "version": "3.8.10"
    },
    "vscode": {
      "interpreter": {
        "hash": "916dbcbb3f70747c44a77c7bcd40155683ae19c65e1c03b4aa3499c5328201f1"
      }
    }
  },
  "nbformat": 4,
  "nbformat_minor": 0
}
